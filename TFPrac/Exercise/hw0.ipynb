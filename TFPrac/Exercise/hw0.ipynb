{
 "cells": [
  {
   "cell_type": "markdown",
   "metadata": {},
   "source": [
    "## 1. Create the following vector variables"
   ]
  },
  {
   "cell_type": "code",
   "execution_count": 85,
   "metadata": {},
   "outputs": [
    {
     "data": {
      "text/plain": [
       "array([3. , 0. , 2.1, 4. , 0.2])"
      ]
     },
     "execution_count": 85,
     "metadata": {},
     "output_type": "execute_result"
    }
   ],
   "source": [
    "import numpy as np\n",
    "import math\n",
    "from math import pi\n",
    "\n",
    "# a\n",
    "v = np.array([3, 0, 2.1, 4, 0.2])\n",
    "v"
   ]
  },
  {
   "cell_type": "code",
   "execution_count": 86,
   "metadata": {},
   "outputs": [
    {
     "data": {
      "text/plain": [
       "array([[ 0.36787944],\n",
       "       [ 1.        ],\n",
       "       [ 2.71828183],\n",
       "       [ 7.3890561 ],\n",
       "       [20.08553692]])"
      ]
     },
     "execution_count": 86,
     "metadata": {},
     "output_type": "execute_result"
    }
   ],
   "source": [
    "# b\n",
    "u = np.array([[np.exp(-1), np.exp(0), np.exp(1), np.exp(2), np.exp(3)]]).T\n",
    "u"
   ]
  },
  {
   "cell_type": "code",
   "execution_count": 87,
   "metadata": {},
   "outputs": [
    {
     "data": {
      "text/plain": [
       "array([-4, -3, -2, -1,  0])"
      ]
     },
     "execution_count": 87,
     "metadata": {},
     "output_type": "execute_result"
    }
   ],
   "source": [
    "# c\n",
    "w = np.array(range(-4, 1))\n",
    "w"
   ]
  },
  {
   "cell_type": "code",
   "execution_count": 88,
   "metadata": {},
   "outputs": [
    {
     "data": {
      "text/plain": [
       "array([ 0,  2,  4,  6,  8, 10])"
      ]
     },
     "execution_count": 88,
     "metadata": {},
     "output_type": "execute_result"
    }
   ],
   "source": [
    "# d\n",
    "m = np.array(range(0, 11, 2))\n",
    "m"
   ]
  },
  {
   "cell_type": "code",
   "execution_count": 89,
   "metadata": {},
   "outputs": [
    {
     "data": {
      "text/plain": [
       "array([[2. ],\n",
       "       [1.9],\n",
       "       [1.8],\n",
       "       [1.7],\n",
       "       [1.6],\n",
       "       [1.5],\n",
       "       [1.4],\n",
       "       [1.3],\n",
       "       [1.2],\n",
       "       [1.1],\n",
       "       [1. ],\n",
       "       [0.9],\n",
       "       [0.8],\n",
       "       [0.7],\n",
       "       [0.6],\n",
       "       [0.5],\n",
       "       [0.4],\n",
       "       [0.3],\n",
       "       [0.2],\n",
       "       [0.1],\n",
       "       [0. ]])"
      ]
     },
     "execution_count": 89,
     "metadata": {},
     "output_type": "execute_result"
    }
   ],
   "source": [
    "# e\n",
    "k = np.linspace(2, 0, 21)\n",
    "s = np.array([k]).T\n",
    "s"
   ]
  },
  {
   "cell_type": "code",
   "execution_count": 90,
   "metadata": {},
   "outputs": [
    {
     "data": {
      "text/plain": [
       "array([[0.        ],\n",
       "       [0.06346652],\n",
       "       [0.12693304],\n",
       "       [0.19039955],\n",
       "       [0.25386607],\n",
       "       [0.31733259],\n",
       "       [0.38079911],\n",
       "       [0.44426563],\n",
       "       [0.50773215],\n",
       "       [0.57119866],\n",
       "       [0.63466518],\n",
       "       [0.6981317 ],\n",
       "       [0.76159822],\n",
       "       [0.82506474],\n",
       "       [0.88853126],\n",
       "       [0.95199777],\n",
       "       [1.01546429],\n",
       "       [1.07893081],\n",
       "       [1.14239733],\n",
       "       [1.20586385],\n",
       "       [1.26933037],\n",
       "       [1.33279688],\n",
       "       [1.3962634 ],\n",
       "       [1.45972992],\n",
       "       [1.52319644],\n",
       "       [1.58666296],\n",
       "       [1.65012947],\n",
       "       [1.71359599],\n",
       "       [1.77706251],\n",
       "       [1.84052903],\n",
       "       [1.90399555],\n",
       "       [1.96746207],\n",
       "       [2.03092858],\n",
       "       [2.0943951 ],\n",
       "       [2.15786162],\n",
       "       [2.22132814],\n",
       "       [2.28479466],\n",
       "       [2.34826118],\n",
       "       [2.41172769],\n",
       "       [2.47519421],\n",
       "       [2.53866073],\n",
       "       [2.60212725],\n",
       "       [2.66559377],\n",
       "       [2.72906028],\n",
       "       [2.7925268 ],\n",
       "       [2.85599332],\n",
       "       [2.91945984],\n",
       "       [2.98292636],\n",
       "       [3.04639288],\n",
       "       [3.10985939],\n",
       "       [3.17332591],\n",
       "       [3.23679243],\n",
       "       [3.30025895],\n",
       "       [3.36372547],\n",
       "       [3.42719199],\n",
       "       [3.4906585 ],\n",
       "       [3.55412502],\n",
       "       [3.61759154],\n",
       "       [3.68105806],\n",
       "       [3.74452458],\n",
       "       [3.8079911 ],\n",
       "       [3.87145761],\n",
       "       [3.93492413],\n",
       "       [3.99839065],\n",
       "       [4.06185717],\n",
       "       [4.12532369],\n",
       "       [4.1887902 ],\n",
       "       [4.25225672],\n",
       "       [4.31572324],\n",
       "       [4.37918976],\n",
       "       [4.44265628],\n",
       "       [4.5061228 ],\n",
       "       [4.56958931],\n",
       "       [4.63305583],\n",
       "       [4.69652235],\n",
       "       [4.75998887],\n",
       "       [4.82345539],\n",
       "       [4.88692191],\n",
       "       [4.95038842],\n",
       "       [5.01385494],\n",
       "       [5.07732146],\n",
       "       [5.14078798],\n",
       "       [5.2042545 ],\n",
       "       [5.26772102],\n",
       "       [5.33118753],\n",
       "       [5.39465405],\n",
       "       [5.45812057],\n",
       "       [5.52158709],\n",
       "       [5.58505361],\n",
       "       [5.64852012],\n",
       "       [5.71198664],\n",
       "       [5.77545316],\n",
       "       [5.83891968],\n",
       "       [5.9023862 ],\n",
       "       [5.96585272],\n",
       "       [6.02931923],\n",
       "       [6.09278575],\n",
       "       [6.15625227],\n",
       "       [6.21971879],\n",
       "       [6.28318531]])"
      ]
     },
     "execution_count": 90,
     "metadata": {},
     "output_type": "execute_result"
    }
   ],
   "source": [
    "# f\n",
    "l = np.linspace(0, 2*pi, 100)\n",
    "t = np.array([l]).T\n",
    "t"
   ]
  },
  {
   "cell_type": "markdown",
   "metadata": {},
   "source": [
    "## 2. Create the following matrix variables"
   ]
  },
  {
   "cell_type": "code",
   "execution_count": 91,
   "metadata": {},
   "outputs": [
    {
     "data": {
      "text/plain": [
       "array([[ 1, -2,  0],\n",
       "       [-2,  1, -2],\n",
       "       [ 0, -2,  1]])"
      ]
     },
     "execution_count": 91,
     "metadata": {},
     "output_type": "execute_result"
    }
   ],
   "source": [
    "# a\n",
    "mat_a = np.eye(3, dtype = int)\n",
    "mat_b = np.array([[0, -2, 0],\n",
    "              [-2, 0, -2],\n",
    "              [0, -2, 0]], dtype = int)\n",
    "A = mat_a + mat_b\n",
    "A"
   ]
  },
  {
   "cell_type": "code",
   "execution_count": 92,
   "metadata": {},
   "outputs": [
    {
     "data": {
      "text/plain": [
       "array([[0, 0, 0, 0, 0, 0, 0, 0, 0],\n",
       "       [0, 0, 0, 0, 0, 0, 0, 0, 0],\n",
       "       [0, 0, 0, 0, 0, 0, 0, 0, 0],\n",
       "       [0, 0, 0, 0, 0, 0, 0, 0, 0],\n",
       "       [0, 0, 0, 0, 0, 0, 0, 0, 0],\n",
       "       [0, 0, 0, 0, 0, 0, 0, 0, 0],\n",
       "       [0, 0, 0, 0, 0, 0, 0, 0, 0],\n",
       "       [0, 0, 0, 0, 0, 0, 0, 0, 0],\n",
       "       [0, 0, 0, 0, 0, 0, 0, 0, 0]])"
      ]
     },
     "execution_count": 92,
     "metadata": {},
     "output_type": "execute_result"
    }
   ],
   "source": [
    "# b\n",
    "zero_matrix = np.zeros((9, 9), dtype = int)\n",
    "zero_matrix"
   ]
  },
  {
   "cell_type": "code",
   "execution_count": 106,
   "metadata": {},
   "outputs": [
    {
     "data": {
      "text/plain": [
       "array([[3, 3, 3, 3, 3, 3, 3, 3, 3],\n",
       "       [3, 3, 3, 3, 3, 3, 3, 3, 3],\n",
       "       [3, 3, 3, 3, 3, 3, 3, 3, 3],\n",
       "       [3, 3, 3, 3, 3, 3, 3, 3, 3],\n",
       "       [3, 3, 3, 3, 3, 3, 3, 3, 3],\n",
       "       [3, 3, 3, 3, 3, 3, 3, 3, 3],\n",
       "       [3, 3, 3, 3, 3, 3, 3, 3, 3],\n",
       "       [3, 3, 3, 3, 3, 3, 3, 3, 3],\n",
       "       [3, 3, 3, 3, 3, 3, 3, 3, 3]])"
      ]
     },
     "execution_count": 106,
     "metadata": {},
     "output_type": "execute_result"
    }
   ],
   "source": [
    "# c\n",
    "full_three = np.full((9, 9), 3, dtype = int)\n",
    "full_three"
   ]
  },
  {
   "cell_type": "code",
   "execution_count": 94,
   "metadata": {},
   "outputs": [
    {
     "data": {
      "text/plain": [
       "array([[0, 9, 9, 9, 9, 9, 9, 9, 9],\n",
       "       [9, 0, 9, 9, 9, 9, 9, 9, 9],\n",
       "       [9, 9, 0, 9, 9, 9, 9, 9, 9],\n",
       "       [9, 9, 9, 0, 9, 9, 9, 9, 9],\n",
       "       [9, 9, 9, 9, 0, 9, 9, 9, 9],\n",
       "       [9, 9, 9, 9, 9, 0, 9, 9, 9],\n",
       "       [9, 9, 9, 9, 9, 9, 0, 9, 9],\n",
       "       [9, 9, 9, 9, 9, 9, 9, 0, 9],\n",
       "       [9, 9, 9, 9, 9, 9, 9, 9, 0]])"
      ]
     },
     "execution_count": 94,
     "metadata": {},
     "output_type": "execute_result"
    }
   ],
   "source": [
    "# d\n",
    "C = np.full((9, 9), 9, dtype = int) - 9 * np.eye(9, dtype = int)\n",
    "C"
   ]
  },
  {
   "cell_type": "code",
   "execution_count": 95,
   "metadata": {},
   "outputs": [
    {
     "data": {
      "text/plain": [
       "array([[1, 0, 0, 0, 0, 0, 0, 0, 0],\n",
       "       [0, 2, 0, 0, 0, 0, 0, 0, 0],\n",
       "       [0, 0, 3, 0, 0, 0, 0, 0, 0],\n",
       "       [0, 0, 0, 4, 0, 0, 0, 0, 0],\n",
       "       [0, 0, 0, 0, 5, 0, 0, 0, 0],\n",
       "       [0, 0, 0, 0, 0, 4, 0, 0, 0],\n",
       "       [0, 0, 0, 0, 0, 0, 3, 0, 0],\n",
       "       [0, 0, 0, 0, 0, 0, 0, 2, 0],\n",
       "       [0, 0, 0, 0, 0, 0, 0, 0, 1]])"
      ]
     },
     "execution_count": 95,
     "metadata": {},
     "output_type": "execute_result"
    }
   ],
   "source": [
    "# e\n",
    "d = np.array([1, 2, 3, 4, 5, 4, 3, 2, 1])\n",
    "D = np.diag(d)\n",
    "D"
   ]
  },
  {
   "cell_type": "code",
   "execution_count": 96,
   "metadata": {},
   "outputs": [
    {
     "data": {
      "text/plain": [
       "array([[1, 1, 1, 1, 1],\n",
       "       [2, 2, 2, 2, 2],\n",
       "       [3, 3, 3, 3, 3],\n",
       "       [4, 4, 4, 4, 4],\n",
       "       [5, 5, 5, 5, 5],\n",
       "       [6, 6, 6, 6, 6],\n",
       "       [7, 7, 7, 7, 7],\n",
       "       [8, 8, 8, 8, 8],\n",
       "       [9, 9, 9, 9, 9]])"
      ]
     },
     "execution_count": 96,
     "metadata": {},
     "output_type": "execute_result"
    }
   ],
   "source": [
    "# f\n",
    "zeros = np.zeros((9, 5), dtype = int)\n",
    "f = np.arange(1, 10)\n",
    "zeros + np.array([f]).T\n"
   ]
  },
  {
   "cell_type": "markdown",
   "metadata": {},
   "source": [
    "## 3. Perform the following operations using the variables created from the problems 1&2"
   ]
  },
  {
   "cell_type": "code",
   "execution_count": 97,
   "metadata": {},
   "outputs": [
    {
     "data": {
      "text/plain": [
       "array([5.65223367, 1.        , 4.25943991, 7.3890561 , 1.56394832])"
      ]
     },
     "execution_count": 97,
     "metadata": {},
     "output_type": "execute_result"
    }
   ],
   "source": [
    "# a\n",
    "# range(np.size(v))\n",
    "for i in range(np.size(v)):\n",
    "    v[i] = math.sqrt(v[i])\n",
    "v2 = np.exp(v)\n",
    "v2"
   ]
  },
  {
   "cell_type": "code",
   "execution_count": 98,
   "metadata": {},
   "outputs": [
    {
     "data": {
      "text/plain": [
       "array([[-1.],\n",
       "       [ 0.],\n",
       "       [ 1.],\n",
       "       [ 2.],\n",
       "       [ 3.]])"
      ]
     },
     "execution_count": 98,
     "metadata": {},
     "output_type": "execute_result"
    }
   ],
   "source": [
    "# b\n",
    "log_u = np.log(u)\n",
    "log_u"
   ]
  },
  {
   "cell_type": "code",
   "execution_count": 99,
   "metadata": {},
   "outputs": [
    {
     "data": {
      "text/plain": [
       "array([8, 7, 6, 5, 4])"
      ]
     },
     "execution_count": 99,
     "metadata": {},
     "output_type": "execute_result"
    }
   ],
   "source": [
    "# c\n",
    "W = np.abs(w) + [4]\n",
    "W"
   ]
  },
  {
   "cell_type": "code",
   "execution_count": 100,
   "metadata": {},
   "outputs": [
    {
     "data": {
      "text/plain": [
       "array([[ 0.00000000e+00],\n",
       "       [ 6.34239197e-02],\n",
       "       [ 1.26592454e-01],\n",
       "       [ 1.89251244e-01],\n",
       "       [ 2.51147987e-01],\n",
       "       [ 3.12033446e-01],\n",
       "       [ 3.71662456e-01],\n",
       "       [ 4.29794912e-01],\n",
       "       [ 4.86196736e-01],\n",
       "       [ 5.40640817e-01],\n",
       "       [ 5.92907929e-01],\n",
       "       [ 6.42787610e-01],\n",
       "       [ 6.90079011e-01],\n",
       "       [ 7.34591709e-01],\n",
       "       [ 7.76146464e-01],\n",
       "       [ 8.14575952e-01],\n",
       "       [ 8.49725430e-01],\n",
       "       [ 8.81453363e-01],\n",
       "       [ 9.09631995e-01],\n",
       "       [ 9.34147860e-01],\n",
       "       [ 9.54902241e-01],\n",
       "       [ 9.71811568e-01],\n",
       "       [ 9.84807753e-01],\n",
       "       [ 9.93838464e-01],\n",
       "       [ 9.98867339e-01],\n",
       "       [ 9.99874128e-01],\n",
       "       [ 9.96854776e-01],\n",
       "       [ 9.89821442e-01],\n",
       "       [ 9.78802446e-01],\n",
       "       [ 9.63842159e-01],\n",
       "       [ 9.45000819e-01],\n",
       "       [ 9.22354294e-01],\n",
       "       [ 8.95993774e-01],\n",
       "       [ 8.66025404e-01],\n",
       "       [ 8.32569855e-01],\n",
       "       [ 7.95761841e-01],\n",
       "       [ 7.55749574e-01],\n",
       "       [ 7.12694171e-01],\n",
       "       [ 6.66769001e-01],\n",
       "       [ 6.18158986e-01],\n",
       "       [ 5.67059864e-01],\n",
       "       [ 5.13677392e-01],\n",
       "       [ 4.58226522e-01],\n",
       "       [ 4.00930535e-01],\n",
       "       [ 3.42020143e-01],\n",
       "       [ 2.81732557e-01],\n",
       "       [ 2.20310533e-01],\n",
       "       [ 1.58001396e-01],\n",
       "       [ 9.50560433e-02],\n",
       "       [ 3.17279335e-02],\n",
       "       [-3.17279335e-02],\n",
       "       [-9.50560433e-02],\n",
       "       [-1.58001396e-01],\n",
       "       [-2.20310533e-01],\n",
       "       [-2.81732557e-01],\n",
       "       [-3.42020143e-01],\n",
       "       [-4.00930535e-01],\n",
       "       [-4.58226522e-01],\n",
       "       [-5.13677392e-01],\n",
       "       [-5.67059864e-01],\n",
       "       [-6.18158986e-01],\n",
       "       [-6.66769001e-01],\n",
       "       [-7.12694171e-01],\n",
       "       [-7.55749574e-01],\n",
       "       [-7.95761841e-01],\n",
       "       [-8.32569855e-01],\n",
       "       [-8.66025404e-01],\n",
       "       [-8.95993774e-01],\n",
       "       [-9.22354294e-01],\n",
       "       [-9.45000819e-01],\n",
       "       [-9.63842159e-01],\n",
       "       [-9.78802446e-01],\n",
       "       [-9.89821442e-01],\n",
       "       [-9.96854776e-01],\n",
       "       [-9.99874128e-01],\n",
       "       [-9.98867339e-01],\n",
       "       [-9.93838464e-01],\n",
       "       [-9.84807753e-01],\n",
       "       [-9.71811568e-01],\n",
       "       [-9.54902241e-01],\n",
       "       [-9.34147860e-01],\n",
       "       [-9.09631995e-01],\n",
       "       [-8.81453363e-01],\n",
       "       [-8.49725430e-01],\n",
       "       [-8.14575952e-01],\n",
       "       [-7.76146464e-01],\n",
       "       [-7.34591709e-01],\n",
       "       [-6.90079011e-01],\n",
       "       [-6.42787610e-01],\n",
       "       [-5.92907929e-01],\n",
       "       [-5.40640817e-01],\n",
       "       [-4.86196736e-01],\n",
       "       [-4.29794912e-01],\n",
       "       [-3.71662456e-01],\n",
       "       [-3.12033446e-01],\n",
       "       [-2.51147987e-01],\n",
       "       [-1.89251244e-01],\n",
       "       [-1.26592454e-01],\n",
       "       [-6.34239197e-02],\n",
       "       [-2.44929360e-16]])"
      ]
     },
     "execution_count": 100,
     "metadata": {},
     "output_type": "execute_result"
    }
   ],
   "source": [
    "# d\n",
    "T = np.sin(t)\n",
    "T"
   ]
  },
  {
   "cell_type": "code",
   "execution_count": 101,
   "metadata": {},
   "outputs": [
    {
     "data": {
      "text/plain": [
       "array([[ 0, -2,  1],\n",
       "       [-2,  1, -2],\n",
       "       [ 1, -2,  0]])"
      ]
     },
     "execution_count": 101,
     "metadata": {},
     "output_type": "execute_result"
    }
   ],
   "source": [
    "# e\n",
    "np.flip(A, axis= 0)"
   ]
  },
  {
   "cell_type": "code",
   "execution_count": 108,
   "metadata": {},
   "outputs": [
    {
     "data": {
      "text/plain": [
       "array([[3, 3, 3, 3, 3, 3, 3, 3, 3],\n",
       "       [1, 1, 1, 1, 1, 1, 1, 1, 1],\n",
       "       [3, 3, 3, 3, 3, 3, 3, 3, 3],\n",
       "       [3, 3, 3, 3, 3, 3, 3, 3, 3],\n",
       "       [3, 3, 3, 3, 3, 3, 3, 3, 3],\n",
       "       [3, 3, 3, 3, 3, 3, 3, 3, 3],\n",
       "       [3, 3, 3, 3, 3, 3, 3, 3, 3],\n",
       "       [3, 3, 3, 3, 3, 3, 3, 3, 3],\n",
       "       [3, 3, 3, 3, 3, 3, 3, 3, 3]])"
      ]
     },
     "execution_count": 108,
     "metadata": {},
     "output_type": "execute_result"
    }
   ],
   "source": [
    "# f\n",
    "full_three = np.full((9, 9), 3, dtype = int)\n",
    "full_three[1:2] += [-2]\n",
    "full_three"
   ]
  },
  {
   "cell_type": "code",
   "execution_count": 121,
   "metadata": {},
   "outputs": [
    {
     "data": {
      "text/plain": [
       "array([[0, 2, 0, 0, 0, 0, 0, 0, 0],\n",
       "       [0, 0, 3, 0, 0, 0, 0, 0, 0],\n",
       "       [0, 0, 0, 4, 0, 0, 0, 0, 0],\n",
       "       [0, 0, 0, 0, 5, 0, 0, 0, 0],\n",
       "       [0, 0, 0, 0, 0, 4, 0, 0, 0],\n",
       "       [0, 0, 0, 0, 0, 0, 3, 0, 0],\n",
       "       [0, 0, 0, 0, 0, 0, 0, 2, 0],\n",
       "       [0, 0, 0, 0, 0, 0, 0, 0, 1]])"
      ]
     },
     "execution_count": 121,
     "metadata": {},
     "output_type": "execute_result"
    }
   ],
   "source": [
    "# g\n",
    "d = np.array([1, 2, 3, 4, 5, 4, 3, 2, 1])\n",
    "D = np.diag(d)\n",
    "D_del = np.delete(D, 0, 0)\n",
    "D_del"
   ]
  },
  {
   "cell_type": "code",
   "execution_count": 122,
   "metadata": {},
   "outputs": [
    {
     "data": {
      "text/plain": [
       "array([[0, 9],\n",
       "       [9, 0]])"
      ]
     },
     "execution_count": 122,
     "metadata": {},
     "output_type": "execute_result"
    }
   ],
   "source": [
    "# h\n",
    "C2 = C[0:2, 0:2]\n",
    "C2"
   ]
  },
  {
   "cell_type": "code",
   "execution_count": 128,
   "metadata": {},
   "outputs": [
    {
     "data": {
      "text/plain": [
       "array([[9, 1, 1, 1, 1],\n",
       "       [8, 2, 2, 2, 2],\n",
       "       [7, 3, 3, 3, 3],\n",
       "       [6, 4, 4, 4, 4],\n",
       "       [5, 5, 5, 5, 5],\n",
       "       [4, 6, 6, 6, 6],\n",
       "       [3, 7, 7, 7, 7],\n",
       "       [2, 8, 8, 8, 8],\n",
       "       [1, 9, 9, 9, 9]])"
      ]
     },
     "execution_count": 128,
     "metadata": {},
     "output_type": "execute_result"
    }
   ],
   "source": [
    "# i\n",
    "zeros = np.zeros((9, 5), dtype = int)\n",
    "f = np.arange(1, 10)\n",
    "F = zeros + np.array([f]).T\n",
    "f_flipped = np.flip(np.array([f]).T, axis= 0)\n",
    "# f_flipped\n",
    "F[:, 0:1] = f_flipped\n",
    "F"
   ]
  }
 ],
 "metadata": {
  "kernelspec": {
   "display_name": "Python 3",
   "language": "python",
   "name": "python3"
  },
  "language_info": {
   "codemirror_mode": {
    "name": "ipython",
    "version": 3
   },
   "file_extension": ".py",
   "mimetype": "text/x-python",
   "name": "python",
   "nbconvert_exporter": "python",
   "pygments_lexer": "ipython3",
   "version": "3.8.2"
  }
 },
 "nbformat": 4,
 "nbformat_minor": 4
}
