{
 "cells": [
  {
   "cell_type": "code",
   "execution_count": 1,
   "id": "0b8a2f9e",
   "metadata": {},
   "outputs": [],
   "source": [
    "# import library\n",
    "import numpy as np"
   ]
  },
  {
   "cell_type": "code",
   "execution_count": 2,
   "id": "ac09a5ad",
   "metadata": {},
   "outputs": [],
   "source": [
    "# make vector with 1 row\n",
    "vector_row = np.array([1,2, 3])"
   ]
  },
  {
   "cell_type": "code",
   "execution_count": 8,
   "id": "989fa488",
   "metadata": {},
   "outputs": [],
   "source": [
    "# make vector with 1 col\n",
    "vector_col = np.array([[1],\n",
    "                      [2],\n",
    "                      [3]])"
   ]
  },
  {
   "cell_type": "code",
   "execution_count": 10,
   "id": "bbbbb54b",
   "metadata": {},
   "outputs": [
    {
     "name": "stdout",
     "output_type": "stream",
     "text": [
      "[1 2 3] \n",
      " [[1]\n",
      " [2]\n",
      " [3]]\n"
     ]
    }
   ],
   "source": [
    "print(vector_row,'\\n', vector_col)"
   ]
  },
  {
   "cell_type": "code",
   "execution_count": 11,
   "id": "e2cf592e",
   "metadata": {},
   "outputs": [
    {
     "name": "stdout",
     "output_type": "stream",
     "text": [
      "<class 'numpy.ndarray'>\n"
     ]
    }
   ],
   "source": [
    "print(type(vector_row))"
   ]
  }
 ],
 "metadata": {
  "kernelspec": {
   "display_name": "Python 3",
   "language": "python",
   "name": "python3"
  },
  "language_info": {
   "codemirror_mode": {
    "name": "ipython",
    "version": 3
   },
   "file_extension": ".py",
   "mimetype": "text/x-python",
   "name": "python",
   "nbconvert_exporter": "python",
   "pygments_lexer": "ipython3",
   "version": "3.8.8"
  }
 },
 "nbformat": 4,
 "nbformat_minor": 5
}
