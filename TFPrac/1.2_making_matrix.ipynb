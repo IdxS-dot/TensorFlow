{
 "cells": [
  {
   "cell_type": "code",
   "execution_count": 3,
   "id": "f7d35399",
   "metadata": {},
   "outputs": [
    {
     "name": "stdout",
     "output_type": "stream",
     "text": [
      "[[1 2]\n",
      " [1 2]\n",
      " [1 2]]\n"
     ]
    },
    {
     "data": {
      "text/plain": [
       "numpy.ndarray"
      ]
     },
     "execution_count": 3,
     "metadata": {},
     "output_type": "execute_result"
    }
   ],
   "source": [
    "#import library\n",
    "import numpy as np\n",
    "\n",
    "#make matrix\n",
    "matrix = np.array([[1, 2],\n",
    "                  [1, 2],\n",
    "                   [1, 2]])\n",
    "print(matrix)\n",
    "type(matrix)"
   ]
  },
  {
   "cell_type": "markdown",
   "id": "61ca3cef",
   "metadata": {},
   "source": [
    "# .mat는 권장되지 않는다.  \n",
    "## => array가 numpy의 표준 데이터 구조이기 때문이며, 대부분의 numpy함수가 matrix object가 아닌 array를 반환하기 때문!"
   ]
  },
  {
   "cell_type": "code",
   "execution_count": 4,
   "id": "7898dbb0",
   "metadata": {},
   "outputs": [
    {
     "name": "stdout",
     "output_type": "stream",
     "text": [
      "[[1 2]\n",
      " [1 2]\n",
      " [1 2]]\n"
     ]
    },
    {
     "data": {
      "text/plain": [
       "numpy.matrix"
      ]
     },
     "execution_count": 4,
     "metadata": {},
     "output_type": "execute_result"
    }
   ],
   "source": [
    "#numpy method .mat 권장되지는 않는다.\n",
    "matrix_object = np.mat([[1, 2],\n",
    "                  [1, 2],\n",
    "                   [1, 2]])\n",
    "print(matrix_object)\n",
    "type(matrix_object)"
   ]
  },
  {
   "cell_type": "code",
   "execution_count": 5,
   "id": "a9557014",
   "metadata": {},
   "outputs": [
    {
     "data": {
      "text/plain": [
       "array([[0., 0.],\n",
       "       [0., 0.],\n",
       "       [0., 0.]])"
      ]
     },
     "execution_count": 5,
     "metadata": {},
     "output_type": "execute_result"
    }
   ],
   "source": [
    "#zeros는 0행렬을, ones는 모든 성분이 1인 행렬을 만든다\n",
    "zero_matrix = np.zeros((3,2))\n",
    "zero_matrix"
   ]
  },
  {
   "cell_type": "code",
   "execution_count": 6,
   "id": "caaf1be2",
   "metadata": {},
   "outputs": [
    {
     "data": {
      "text/plain": [
       "array([[1., 1.],\n",
       "       [1., 1.],\n",
       "       [1., 1.]])"
      ]
     },
     "execution_count": 6,
     "metadata": {},
     "output_type": "execute_result"
    }
   ],
   "source": [
    "one_matrix = np.ones((3,2))\n",
    "one_matrix"
   ]
  },
  {
   "cell_type": "markdown",
   "id": "9dbf3f81",
   "metadata": {},
   "source": [
    "# 특정 값으로 채운 배열을 만들려면 full 함수를 사용하자.\n",
    "## zeros를 만들고 +n을 해도 가능하긴하나, 복잡\n"
   ]
  },
  {
   "cell_type": "code",
   "execution_count": 7,
   "id": "fc292b89",
   "metadata": {},
   "outputs": [
    {
     "data": {
      "text/plain": [
       "array([[7., 7.],\n",
       "       [7., 7.],\n",
       "       [7., 7.]])"
      ]
     },
     "execution_count": 7,
     "metadata": {},
     "output_type": "execute_result"
    }
   ],
   "source": [
    "seven_matrix = np.zeros((3,2)) + 7\n",
    "seven_matrix"
   ]
  },
  {
   "cell_type": "code",
   "execution_count": 8,
   "id": "832a89f6",
   "metadata": {},
   "outputs": [
    {
     "data": {
      "text/plain": [
       "array([[7, 7],\n",
       "       [7, 7],\n",
       "       [7, 7]])"
      ]
     },
     "execution_count": 8,
     "metadata": {},
     "output_type": "execute_result"
    }
   ],
   "source": [
    "seven_matrix = np.full((3,2), 7) \n",
    "seven_matrix"
   ]
  }
 ],
 "metadata": {
  "kernelspec": {
   "display_name": "Python 3",
   "language": "python",
   "name": "python3"
  },
  "language_info": {
   "codemirror_mode": {
    "name": "ipython",
    "version": 3
   },
   "file_extension": ".py",
   "mimetype": "text/x-python",
   "name": "python",
   "nbconvert_exporter": "python",
   "pygments_lexer": "ipython3",
   "version": "3.8.8"
  }
 },
 "nbformat": 4,
 "nbformat_minor": 5
}
