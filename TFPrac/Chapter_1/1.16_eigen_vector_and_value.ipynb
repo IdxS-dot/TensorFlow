{
 "cells": [
  {
   "cell_type": "code",
   "execution_count": 1,
   "metadata": {},
   "outputs": [
    {
     "data": {
      "text/plain": [
       "array([13.55075847,  0.74003145, -3.29078992])"
      ]
     },
     "execution_count": 1,
     "metadata": {},
     "output_type": "execute_result"
    }
   ],
   "source": [
    "# 라이브러리 임포트\n",
    "import numpy as np\n",
    "\n",
    "# 행렬을 만듭니다.\n",
    "matrix = np.array([[1, -1, 3,],\n",
    "                  [1, 1, 6],\n",
    "                  [3, 8, 9]])\n",
    "\n",
    "# 고윳값과 고유벡터를 계산합니다.\n",
    "eigenvalues, eigenvectors = np.linalg.eig(matrix)\n",
    "\n",
    "# 고윳값을 확인합니다.\n",
    "eigenvalues\n",
    "                   \n",
    "                   \n",
    "                   "
   ]
  },
  {
   "cell_type": "code",
   "execution_count": 2,
   "metadata": {},
   "outputs": [
    {
     "data": {
      "text/plain": [
       "array([[-0.17622017, -0.96677403, -0.53373322],\n",
       "       [-0.435951  ,  0.2053623 , -0.64324848],\n",
       "       [-0.88254925,  0.15223105,  0.54896288]])"
      ]
     },
     "execution_count": 2,
     "metadata": {},
     "output_type": "execute_result"
    }
   ],
   "source": [
    "# 고유 벡터를 확인합니다.\n",
    "eigenvectors"
   ]
  },
  {
   "cell_type": "markdown",
   "metadata": {},
   "source": [
    "고유벡터는 머신러닝 라이브러리에서 널리 사용됩니다.<br>\n",
    "행렬 A로 표현되는 선형 변환을 적용할 때 고유벡터는 스케일만 바뀌는 벡터입니다.(방향은 바뀌지 않습니다.)<br>\n",
    "공식으로 나타내면 다음과 같습니다.<br>\n",
    "Av = λv<br>\n",
    "A가 정방행렬일 때 λ는 고윳값, v는 고유벡터입니다. 넘파이 선형대수 모듈에서 eig함수는 정방행렬의 고윳값과 고유벡터를 계산할 수 있습니다."
   ]
  },
  {
   "cell_type": "markdown",
   "metadata": {},
   "source": [
    "대칭행렬일 경우 linalg.eigh 함수를 사용하면 고윳값과 고유벡터를 더 빠르게 계산합니다.<br>\n",
    "이 함수는 입력값이 대칭행렬인지 <span style = \"color : red\">검사하지 않습니다.</span>"
   ]
  },
  {
   "cell_type": "code",
   "execution_count": 5,
   "metadata": {},
   "outputs": [
    {
     "data": {
      "text/plain": [
       "array([-3.47535395,  1.84536862, 12.62998534])"
      ]
     },
     "execution_count": 5,
     "metadata": {},
     "output_type": "execute_result"
    }
   ],
   "source": [
    "# 대칭행렬을 생성합니다.\n",
    "matrix = np.array([[1, -1, 3,],\n",
    "                  [-1, 1, 6],\n",
    "                  [3, 6, 9]])\n",
    "\n",
    "# 고윳값과 고유벡터를 계산합니다.\n",
    "eigenvalues, eigenvectors = np.linalg.eigh(matrix)\n",
    "\n",
    "# 고윳값 출력\n",
    "eigenvalues\n"
   ]
  },
  {
   "cell_type": "code",
   "execution_count": 6,
   "metadata": {},
   "outputs": [
    {
     "data": {
      "text/plain": [
       "array([[-0.48107069, -0.85602522,  0.18918723],\n",
       "       [-0.73926367,  0.51210152,  0.43731139],\n",
       "       [ 0.47123265, -0.07051844,  0.87918538]])"
      ]
     },
     "execution_count": 6,
     "metadata": {},
     "output_type": "execute_result"
    }
   ],
   "source": [
    "# 고유벡터 출력\n",
    "eigenvectors"
   ]
  },
  {
   "cell_type": "code",
   "execution_count": 8,
   "metadata": {},
   "outputs": [
    {
     "data": {
      "text/plain": [
       "(array([-4.06068011,  0.42052872, 14.64015139]),\n",
       " array([[-0.15814655,  0.96247406, -0.22052969],\n",
       "        [-0.82541908, -0.25143572, -0.5054339 ],\n",
       "        [ 0.54191606, -0.10209679, -0.83420815]]))"
      ]
     },
     "execution_count": 8,
     "metadata": {},
     "output_type": "execute_result"
    }
   ],
   "source": [
    "# 만약 대칭행렬이 아니라면?\n",
    "matrix = np.array([[1, -1, 3,],\n",
    "                  [1, 1, 6],\n",
    "                  [3, 8, 9]])\n",
    "\n",
    "eigenvalues, eigenvectors = np.linalg.eigh(matrix)\n",
    "\n",
    "# 고윳값과 고유벡터 출력 - 그냥 출력됨\n",
    "eigenvalues, eigenvectors"
   ]
  }
 ],
 "metadata": {
  "kernelspec": {
   "display_name": "Python 3",
   "language": "python",
   "name": "python3"
  },
  "language_info": {
   "codemirror_mode": {
    "name": "ipython",
    "version": 3
   },
   "file_extension": ".py",
   "mimetype": "text/x-python",
   "name": "python",
   "nbconvert_exporter": "python",
   "pygments_lexer": "ipython3",
   "version": "3.8.2"
  }
 },
 "nbformat": 4,
 "nbformat_minor": 4
}
