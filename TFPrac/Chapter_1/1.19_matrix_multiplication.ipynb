{
 "cells": [
  {
   "cell_type": "code",
   "execution_count": 1,
   "metadata": {},
   "outputs": [
    {
     "data": {
      "text/plain": [
       "array([[2, 5],\n",
       "       [3, 7]])"
      ]
     },
     "execution_count": 1,
     "metadata": {},
     "output_type": "execute_result"
    }
   ],
   "source": [
    "# 라이브러리 임포트\n",
    "import numpy as np\n",
    "\n",
    "# 행렬을 만듭니다.\n",
    "matrix_a = np.array([[1, 1],\n",
    "                     [1, 2]])\n",
    "\n",
    "# 행렬을 만듭니다.\n",
    "matrix_b = np.array([[1, 3],\n",
    "                     [1, 2]])\n",
    "\n",
    "# 두 행렬을 곱합니다.\n",
    "np.dot(matrix_a, matrix_b)"
   ]
  },
  {
   "cell_type": "code",
   "execution_count": 2,
   "metadata": {},
   "outputs": [
    {
     "data": {
      "text/plain": [
       "array([[2, 5],\n",
       "       [3, 7]])"
      ]
     },
     "execution_count": 2,
     "metadata": {},
     "output_type": "execute_result"
    }
   ],
   "source": [
    "# @연산자로도 가능합니다.\n",
    "matrix_a @ matrix_b"
   ]
  },
  {
   "cell_type": "code",
   "execution_count": 5,
   "metadata": {},
   "outputs": [
    {
     "data": {
      "text/plain": [
       "array([[1, 3],\n",
       "       [1, 4]])"
      ]
     },
     "execution_count": 5,
     "metadata": {},
     "output_type": "execute_result"
    }
   ],
   "source": [
    "# 원소별 곱셈을 수행하려면 * 연산자를 사용합니다. (mat_a[0][0]*mat_b[0][0] , mat_a[0][1]*mat_b[0][1], ....)\n",
    "matrix_a * matrix_b"
   ]
  },
  {
   "cell_type": "markdown",
   "metadata": {},
   "source": [
    "np.dot 함수는 다차원 배열에도 적용할 수 있습니다. 이때는 첫 번째 배열의 <span style = \"color : red\">마지막 차원과</span> 두 번째 배열의 <span style = \"color : red\">끝에서 두 번째 차원이</span> 동일해야 합니다.<br>\n",
    "(a, b, c, <span style = \"color : blue\">D</span>) 크기의 배열과 (e, f, <span style = \"color : blue\">D</span>, h) 크기의 배열이 있을 때 두 배열의 <span style = \"color : green\">점곱(dot product) 결과</span>는 (a, b, c, e, f, h)크기의 배열을 만듭니다.<br>\n",
    "이와 달리 np.matmul 함수와 @ 연산자는 다차원 배열을 마지막 두 차원이 단순히 쌓인 것으로 인식합니다.<br>\n",
    "(<span style = \"color : blue\">a, b</span>, c, D) 크기의 배열과 (<span style = \"color : blue\">e, f</span>, D, h) 크기의 배열이 있을 때 np.matmul 함수나 @ 연산자를 적용하려면 <span style = \"color : red\">a와 e가 같거나 둘 중 하나는 1이어야 합니다.</span><br>\n",
    "또한 <span style = \"color : red\">b와 f가 같거나 둘 중 하나는 1이어야 합니다.</span><br>\n",
    "연산의 결과는 (a', b', c, h) 크기의 배열을 만듭니다. 여기에서 a'은 a와 e 중에서 1이 아닌 값이고, b'는 b와 f 중에서 1이 아닌 값입니다."
   ]
  },
  {
   "cell_type": "code",
   "execution_count": 7,
   "metadata": {},
   "outputs": [
    {
     "data": {
      "text/plain": [
       "(2, 1, 4, 1, 3, 6)"
      ]
     },
     "execution_count": 7,
     "metadata": {},
     "output_type": "execute_result"
    }
   ],
   "source": [
    "a = np.random.rand(2, 1, 4, 5)\n",
    "b = np.random.rand(1, 3, 5, 6)\n",
    "\n",
    "np.dot(a, b).shape"
   ]
  },
  {
   "cell_type": "code",
   "execution_count": 8,
   "metadata": {},
   "outputs": [
    {
     "data": {
      "text/plain": [
       "(2, 3, 4, 6)"
      ]
     },
     "execution_count": 8,
     "metadata": {},
     "output_type": "execute_result"
    }
   ],
   "source": [
    "np.matmul(a, b).shape"
   ]
  }
 ],
 "metadata": {
  "kernelspec": {
   "display_name": "Python 3",
   "language": "python",
   "name": "python3"
  },
  "language_info": {
   "codemirror_mode": {
    "name": "ipython",
    "version": 3
   },
   "file_extension": ".py",
   "mimetype": "text/x-python",
   "name": "python",
   "nbconvert_exporter": "python",
   "pygments_lexer": "ipython3",
   "version": "3.8.2"
  }
 },
 "nbformat": 4,
 "nbformat_minor": 4
}
