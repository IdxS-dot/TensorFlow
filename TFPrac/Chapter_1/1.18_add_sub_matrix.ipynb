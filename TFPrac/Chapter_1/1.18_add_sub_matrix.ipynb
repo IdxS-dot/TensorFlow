{
 "cells": [
  {
   "cell_type": "code",
   "execution_count": 1,
   "metadata": {},
   "outputs": [
    {
     "data": {
      "text/plain": [
       "array([[ 2,  4,  2],\n",
       "       [ 2,  4,  2],\n",
       "       [ 2,  4, 10]])"
      ]
     },
     "execution_count": 1,
     "metadata": {},
     "output_type": "execute_result"
    }
   ],
   "source": [
    "# 라이브러리 임포트\n",
    "import numpy as np\n",
    "\n",
    "# 행렬을 만듭니다.\n",
    "matrix_a = np.array([[1, 1, 1],\n",
    "                    [1, 1, 1],\n",
    "                    [1, 1, 2]])\n",
    "\n",
    "# 행렬을 만듭니다.\n",
    "matrix_b = np.array([[1, 3, 1],\n",
    "                     [1, 3, 1],\n",
    "                     [1, 3, 8]])\n",
    "\n",
    "# 두 행렬을 더합니다.\n",
    "np.add(matrix_a, matrix_b)"
   ]
  },
  {
   "cell_type": "code",
   "execution_count": 3,
   "metadata": {},
   "outputs": [
    {
     "data": {
      "text/plain": [
       "array([[ 0, -2,  0],\n",
       "       [ 0, -2,  0],\n",
       "       [ 0, -2, -6]])"
      ]
     },
     "execution_count": 3,
     "metadata": {},
     "output_type": "execute_result"
    }
   ],
   "source": [
    "# 두 행렬을 뺍니다.\n",
    "np.subtract(matrix_a, matrix_b)"
   ]
  },
  {
   "cell_type": "code",
   "execution_count": 4,
   "metadata": {},
   "outputs": [
    {
     "data": {
      "text/plain": [
       "array([[ 2,  4,  2],\n",
       "       [ 2,  4,  2],\n",
       "       [ 2,  4, 10]])"
      ]
     },
     "execution_count": 4,
     "metadata": {},
     "output_type": "execute_result"
    }
   ],
   "source": [
    "# + 연산자로도 가능합니다.\n",
    "matrix_a + matrix_b"
   ]
  }
 ],
 "metadata": {
  "kernelspec": {
   "display_name": "Python 3",
   "language": "python",
   "name": "python3"
  },
  "language_info": {
   "codemirror_mode": {
    "name": "ipython",
    "version": 3
   },
   "file_extension": ".py",
   "mimetype": "text/x-python",
   "name": "python",
   "nbconvert_exporter": "python",
   "pygments_lexer": "ipython3",
   "version": "3.8.2"
  }
 },
 "nbformat": 4,
 "nbformat_minor": 4
}
