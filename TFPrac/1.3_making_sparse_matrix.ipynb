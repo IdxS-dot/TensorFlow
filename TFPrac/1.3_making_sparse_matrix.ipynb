{
 "cells": [
  {
   "cell_type": "code",
   "execution_count": 2,
   "id": "381a9693",
   "metadata": {},
   "outputs": [],
   "source": [
    "#import library\n",
    "import numpy as np\n",
    "from scipy import sparse"
   ]
  },
  {
   "cell_type": "code",
   "execution_count": 4,
   "id": "ea7c7120",
   "metadata": {},
   "outputs": [],
   "source": [
    "#make matrix\n",
    "matrix = np.array([[0,0],\n",
    "                 [0,1],\n",
    "                 [3,0]])"
   ]
  },
  {
   "cell_type": "code",
   "execution_count": 5,
   "id": "ec6fa8b9",
   "metadata": {},
   "outputs": [],
   "source": [
    "#make CSR matrix\n",
    "matrix_sparse = sparse.csr_matrix(matrix)"
   ]
  },
  {
   "cell_type": "code",
   "execution_count": 6,
   "id": "6533a6f7",
   "metadata": {},
   "outputs": [
    {
     "name": "stdout",
     "output_type": "stream",
     "text": [
      "  (1, 1)\t1\n",
      "  (2, 0)\t3\n"
     ]
    }
   ],
   "source": [
    "#print sparse matrix\n",
    "print(matrix_sparse)"
   ]
  },
  {
   "cell_type": "markdown",
   "id": "1c71976f",
   "metadata": {},
   "source": [
    "### 0이 아닌 성분의 위치와 값을 저장한다."
   ]
  },
  {
   "cell_type": "code",
   "execution_count": 14,
   "id": "42afc25e",
   "metadata": {},
   "outputs": [],
   "source": [
    "#큰 행렬을 만들어봅시다.\n",
    "matrix_large = np.array([[0, 0, 0, 0, 0, 0, 0, 0, 0, 0, 0, 0],\n",
    "                        [0, 1, 0, 0, 0, 0, 0, 0, 0, 0, 0, 0],\n",
    "                        [3, 0, 0, 0, 0, 0, 0, 0, 0, 0, 0, 0]])"
   ]
  },
  {
   "cell_type": "code",
   "execution_count": 15,
   "id": "daf74285",
   "metadata": {},
   "outputs": [],
   "source": [
    "#CSR행렬 생성\n",
    "matrix_large_sparse = sparse.csr_matrix(matrix_large)"
   ]
  },
  {
   "cell_type": "code",
   "execution_count": 16,
   "id": "04011256",
   "metadata": {},
   "outputs": [
    {
     "name": "stdout",
     "output_type": "stream",
     "text": [
      "  (1, 1)\t1\n",
      "  (2, 0)\t3\n"
     ]
    }
   ],
   "source": [
    "print(matrix_large_sparse)"
   ]
  },
  {
   "cell_type": "markdown",
   "id": "316023e5",
   "metadata": {},
   "source": [
    "행렬이 커질 경우 간결하게 정보를 조회할 수 있는 장점이 있다.<br>\n",
    "그리고 0을 추가해도 sparse matrix의 크기는 변하지 않는다."
   ]
  },
  {
   "cell_type": "code",
   "execution_count": null,
   "id": "c0b71b6f",
   "metadata": {},
   "outputs": [],
   "source": []
  }
 ],
 "metadata": {
  "kernelspec": {
   "display_name": "Python 3",
   "language": "python",
   "name": "python3"
  },
  "language_info": {
   "codemirror_mode": {
    "name": "ipython",
    "version": 3
   },
   "file_extension": ".py",
   "mimetype": "text/x-python",
   "name": "python",
   "nbconvert_exporter": "python",
   "pygments_lexer": "ipython3",
   "version": "3.8.8"
  }
 },
 "nbformat": 4,
 "nbformat_minor": 5
}
