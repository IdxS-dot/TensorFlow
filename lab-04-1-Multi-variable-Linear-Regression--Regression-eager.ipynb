{
 "cells": [
  {
   "cell_type": "markdown",
   "metadata": {
    "colab_type": "text",
    "collapsed": true,
    "id": "qa55_des11wj",
    "slideshow": {
     "slide_type": "slide"
    }
   },
   "source": [
    "# 03 - Multi-variable Linear Regression\n",
    "\n",
    "<img width=\"200\" src=\"https://i.imgur.com/hbPVe1T.png\">\n"
   ]
  },
  {
   "cell_type": "code",
   "execution_count": 2,
   "metadata": {
    "colab": {
     "base_uri": "https://localhost:8080/",
     "height": 34
    },
    "colab_type": "code",
    "executionInfo": {
     "elapsed": 1622,
     "status": "ok",
     "timestamp": 1549861753492,
     "user": {
      "displayName": "Sean-June Lee",
      "photoUrl": "https://lh3.googleusercontent.com/-j96Pvw9LbEw/AAAAAAAAAAI/AAAAAAACQxw/aY8i4PoItwc/s64/photo.jpg",
      "userId": "12576390002043678893"
     },
     "user_tz": -540
    },
    "id": "BbOQ25cb11wl",
    "outputId": "182e949f-9183-4095-84bb-3edcf3f768fa",
    "slideshow": {
     "slide_type": "slide"
    }
   },
   "outputs": [
    {
     "data": {
      "text/plain": [
       "'2.6.0'"
      ]
     },
     "execution_count": 2,
     "metadata": {},
     "output_type": "execute_result"
    }
   ],
   "source": [
    "import tensorflow.compat.v1 as tf\n",
    "import numpy as np\n",
    "\n",
    "tf.enable_eager_execution()\n",
    "tf.__version__"
   ]
  },
  {
   "cell_type": "markdown",
   "metadata": {
    "colab_type": "text",
    "id": "eXdPAm1y11xP",
    "slideshow": {
     "slide_type": "-"
    }
   },
   "source": [
    "# Multi-variable linear regression\n",
    "Predicting exam score - regression using three inputs (x1, x2, x3)\n",
    "\n",
    "x1 (quiz 1) | x2 (quiz 2) | x3 (mid 1) | Y (final)\n",
    "---- | ---- | ----| ----\n",
    "73 | 80 | 75 | 152\n",
    "93 | 88 | 93 | 185\n",
    "89 | 91 | 90 | 180\n",
    "96 | 98 | 100 | 196\n",
    "73 | 66 | 70 | 142\n",
    "\n",
    "\n",
    "Test Scores for General Psychology ( https://goo.gl/g2T8Kp )"
   ]
  },
  {
   "cell_type": "markdown",
   "metadata": {
    "colab_type": "text",
    "id": "ZCc0H5qT11xU",
    "slideshow": {
     "slide_type": "slide"
    }
   },
   "source": [
    "# Matrix multiplication\n",
    "\n",
    "## dot product(=scalar product, 내적)\n",
    "<img src=\"https://www.mathsisfun.com/algebra/images/matrix-multiply-a.svg\" >\n",
    "\n",
    "\n",
    "https://www.mathsisfun.com/algebra/matrix-multiplying.html"
   ]
  },
  {
   "cell_type": "markdown",
   "metadata": {
    "colab_type": "text",
    "id": "HOpVHPfX11xV",
    "slideshow": {
     "slide_type": "slide"
    }
   },
   "source": [
    "# Multi-feature regression\n",
    "\n",
    "### Hypothesis\n",
    "\n",
    "$$ H(x) = w x + b $$\n",
    "\n",
    "$$ H(x_1, x_2, x_3) = w_1 x_1 + w_2 x_2 + w_3 x_3 + b $$"
   ]
  },
  {
   "cell_type": "markdown",
   "metadata": {
    "colab_type": "text",
    "id": "jiJiS73i11xW",
    "slideshow": {
     "slide_type": "slide"
    }
   },
   "source": [
    "# Hypothesis using matrix\n",
    "\n",
    "$$ H(x_1, x_2, x_3) = \\underline{w_1 x_1 + w_2 x_2 + w_3 x_3} + b $$\n",
    "\n",
    "$$ w_1 x_1 + w_2 x_2 + w_3 x_3 $$ \n",
    "\n",
    "$$ \\begin{pmatrix} w_{ 1 } & w_{ 2 } & w_{ 3 } \\end{pmatrix}\\cdot \\begin{pmatrix} x_{ 1 } \\\\ x_{ 2 } \\\\ x_{ 3 } \\end{pmatrix} $$\n",
    "\n",
    "$$ WX $$ (W, X 는 matrix)"
   ]
  },
  {
   "cell_type": "markdown",
   "metadata": {
    "colab_type": "text",
    "id": "Qyo_v2q211xX",
    "slideshow": {
     "slide_type": "slide"
    }
   },
   "source": [
    "# Hypothesis without b\n",
    "\n",
    "$$ H(x_1, x_2, x_3) = w_1 x_1 + w_2 x_2 + w_3 x_3 + b$$\n",
    "\n",
    "$$ = b + w_1 x_1 + w_2 x_2 + w_3 x_3 $$\n",
    "\n",
    "$$ = \\begin{pmatrix} b & x_{ 1 } & x_{ 2 } & x_{ 3 } \\end{pmatrix}\\cdot \\begin{pmatrix} 1 \\\\ w_{ 1 } \\\\ w_{ 2 } \\\\ w_{ 3 } \\end{pmatrix} $$\n",
    "\n",
    "$$ = XW $$\n",
    "\n"
   ]
  },
  {
   "cell_type": "markdown",
   "metadata": {
    "colab_type": "text",
    "id": "70JryWbi11xZ",
    "slideshow": {
     "slide_type": "slide"
    }
   },
   "source": [
    "# Hypothesis using matrix \n",
    "\n",
    "### Many x instances\n",
    "\n",
    "$$ \\begin{pmatrix} x_{ 11 } & x_{ 12 } & x_{ 13 } \\\\ x_{ 21 } & x_{ 22 } & x_{ 23 } \\\\ x_{ 31 } & x_{ 32 } & x_{ 33 }\\\\ x_{ 41 } & x_{ 42 } & x_{ 43 }\\\\ x_{ 51 } & x_{ 52 } & x_{ 53 }\\end{pmatrix} \\cdot \\begin{pmatrix} w_{ 1 } \\\\ w_{ 2 } \\\\ w_{ 3 } \\end{pmatrix}=\\begin{pmatrix} x_{ 11 }w_{ 1 }+x_{ 12 }w_{ 2 }+x_{ 13 }w_{ 3 } \\\\ x_{ 21 }w_{ 1 }+x_{ 22 }w_{ 2 }+x_{ 23 }w_{ 3 }\\\\ x_{ 31 }w_{ 1 }+x_{ 32 }w_{ 2 }+x_{ 33 }w_{ 3 } \\\\ x_{ 41 }w_{ 1 }+x_{ 42 }w_{ 2 }+x_{ 43 }w_{ 3 } \\\\ x_{ 51 }w_{ 1 }+x_{ 52 }w_{ 2 }+x_{ 53 }w_{ 3 } \\end{pmatrix} $$\n",
    "\n",
    "$$ [5, 3] \\cdot [3, 1] = [5, 1] $$\n",
    "\n",
    "$$ H(X) = XW $$\n",
    "\n",
    "5는 데이터(instance)의 수, 3은 변수(feature)의 수, 1은 결과"
   ]
  },
  {
   "cell_type": "markdown",
   "metadata": {
    "colab_type": "text",
    "id": "_PmX23KO11xc",
    "slideshow": {
     "slide_type": "slide"
    }
   },
   "source": [
    "# Hypothesis using matrix (n output)\n",
    "\n",
    "$$ [n, 3] \\cdot [?, ?] = [n, 2] $$\n",
    "\n",
    "$$ H(X) = XW $$\n",
    "\n",
    "* n은 데이터(instance)의 개수, 2는 결과 값의 개수로 주어진다.\n",
    "* 이때, W [?, ?] ⇒ [3, 2]"
   ]
  },
  {
   "cell_type": "markdown",
   "metadata": {
    "colab_type": "text",
    "id": "TdLqWOL811xd",
    "slideshow": {
     "slide_type": "slide"
    }
   },
   "source": [
    "# WX vs XW\n",
    "\n",
    "### Theory (Lecture) :\n",
    " $$ H(x) = Wx + b  $$\n",
    "\n",
    "### TensorFlow (Implementation) :\n",
    "\n",
    "$$ H(X) = XW $$"
   ]
  },
  {
   "cell_type": "markdown",
   "metadata": {
    "colab_type": "text",
    "id": "4hzOpk9w11xf",
    "slideshow": {
     "slide_type": "slide"
    }
   },
   "source": [
    "# Simple Example (2 variables)\n",
    "\n",
    "x1 | x2 | y\n",
    "---- | ---- | ----\n",
    "1  |  0  |  1\n",
    "0  |  2  |  2\n",
    "3  |  0  |  3\n",
    "0  |  4  |  4\n",
    "5  |  0  |  5"
   ]
  },
  {
   "cell_type": "code",
   "execution_count": 2,
   "metadata": {
    "colab": {},
    "colab_type": "code",
    "id": "b645aPucdmMz"
   },
   "outputs": [],
   "source": [
    "tf.set_random_seed(0)  # for reproducibility"
   ]
  },
  {
   "cell_type": "code",
   "execution_count": 5,
   "metadata": {
    "colab": {
     "base_uri": "https://localhost:8080/",
     "height": 386
    },
    "colab_type": "code",
    "executionInfo": {
     "elapsed": 2134,
     "status": "ok",
     "timestamp": 1549859056786,
     "user": {
      "displayName": "Sean-June Lee",
      "photoUrl": "https://lh3.googleusercontent.com/-j96Pvw9LbEw/AAAAAAAAAAI/AAAAAAACQxw/aY8i4PoItwc/s64/photo.jpg",
      "userId": "12576390002043678893"
     },
     "user_tz": -540
    },
    "id": "XdIC0_tqpmc1",
    "outputId": "441c62e7-dac2-48ee-affe-fcd6e346cce1"
   },
   "outputs": [
    {
     "name": "stdout",
     "output_type": "stream",
     "text": [
      "    0 |  68.246712 |     1.3820 |    -1.0251 |  -5.506783\n",
      "   50 |  27.503042 |     1.8613 |     0.1592 |  -4.936086\n",
      "  100 |  12.634786 |     2.0407 |     0.9074 |  -4.581374\n",
      "  150 |   6.841758 |     2.0925 |     1.3797 |  -4.347348\n",
      "  200 |   4.468609 |     2.0931 |     1.6765 |  -4.182670\n",
      "  250 |   3.447158 |     2.0750 |     1.8611 |  -4.058953\n",
      "  300 |   2.976022 |     2.0519 |     1.9738 |  -3.960082\n",
      "  350 |   2.733317 |     2.0288 |     2.0402 |  -3.876680\n",
      "  400 |   2.587035 |     2.0073 |     2.0769 |  -3.803166\n",
      "  450 |   2.482397 |     1.9876 |     2.0946 |  -3.736156\n",
      "  500 |   2.396507 |     1.9695 |     2.1000 |  -3.673557\n",
      "  550 |   2.319743 |     1.9527 |     2.0976 |  -3.614066\n",
      "  600 |   2.248035 |     1.9368 |     2.0902 |  -3.556855\n",
      "  650 |   2.179636 |     1.9216 |     2.0796 |  -3.501393\n",
      "  700 |   2.113776 |     1.9070 |     2.0671 |  -3.447340\n",
      "  750 |   2.050099 |     1.8928 |     2.0535 |  -3.394471\n",
      "  800 |   1.988422 |     1.8790 |     2.0392 |  -3.342639\n",
      "  850 |   1.928634 |     1.8655 |     2.0245 |  -3.291744\n",
      "  900 |   1.870658 |     1.8523 |     2.0097 |  -3.241719\n",
      "  950 |   1.814432 |     1.8393 |     1.9948 |  -3.192515\n",
      " 1000 |   1.759897 |     1.8266 |     1.9800 |  -3.144097\n"
     ]
    }
   ],
   "source": [
    "x1_data = [1, 0, 3, 0, 5]\n",
    "x2_data = [0, 2, 0, 4, 0]\n",
    "y_data  = [1, 2, 3, 4, 5]\n",
    "\n",
    "W1 = tf.Variable(tf.random_uniform([1], -10.0, 10.0))\n",
    "W2 = tf.Variable(tf.random_uniform([1], -10.0, 10.0))\n",
    "b  = tf.Variable(tf.random_uniform([1], -10.0, 10.0))\n",
    "\n",
    "learning_rate = tf.Variable(0.001)\n",
    "\n",
    "for i in range(1000+1):\n",
    "    with tf.GradientTape() as tape:\n",
    "        hypothesis = W1 * x1_data + W2 * x2_data + b\n",
    "        cost = tf.reduce_mean(tf.square(hypothesis - y_data))\n",
    "    W1_grad, W2_grad, b_grad = tape.gradient(cost, [W1, W2, b])\n",
    "    W1.assign_sub(learning_rate * W1_grad)\n",
    "    W2.assign_sub(learning_rate * W2_grad)\n",
    "    b.assign_sub(learning_rate * b_grad)\n",
    "\n",
    "    if i % 50 == 0:\n",
    "        print(\"{:5} | {:10.6f} | {:10.4f} | {:10.4f} | {:10.6f}\".format(\n",
    "          i, cost.numpy(), W1.numpy()[0], W2.numpy()[0], b.numpy()[0]))\n"
   ]
  },
  {
   "cell_type": "markdown",
   "metadata": {
    "colab_type": "text",
    "id": "uNHVQS-311xk",
    "slideshow": {
     "slide_type": "slide"
    }
   },
   "source": [
    "# Simple Example (2 variables with Matrix)"
   ]
  },
  {
   "cell_type": "code",
   "execution_count": 4,
   "metadata": {
    "colab": {
     "base_uri": "https://localhost:8080/",
     "height": 386
    },
    "colab_type": "code",
    "executionInfo": {
     "elapsed": 3709,
     "status": "ok",
     "timestamp": 1549859058376,
     "user": {
      "displayName": "Sean-June Lee",
      "photoUrl": "https://lh3.googleusercontent.com/-j96Pvw9LbEw/AAAAAAAAAAI/AAAAAAACQxw/aY8i4PoItwc/s64/photo.jpg",
      "userId": "12576390002043678893"
     },
     "user_tz": -540
    },
    "id": "1SWH2f6vnjCO",
    "outputId": "e37b1216-8540-4aa1-ea9e-3a52761230c0"
   },
   "outputs": [
    {
     "name": "stdout",
     "output_type": "stream",
     "text": [
      "    0 |  36.403778 |    -0.6231 |    -0.3508 |  -0.961774\n",
      "   50 |   9.372900 |     0.2914 |     0.1682 |  -0.557764\n",
      "  100 |   2.639858 |     0.7060 |     0.4867 |  -0.347756\n",
      "  150 |   0.825069 |     0.8912 |     0.6846 |  -0.235665\n",
      "  200 |   0.284990 |     0.9721 |     0.8088 |  -0.174012\n",
      "  250 |   0.106844 |     1.0062 |     0.8873 |  -0.138953\n",
      "  300 |   0.042677 |     1.0195 |     0.9372 |  -0.118279\n",
      "  350 |   0.018044 |     1.0241 |     0.9690 |  -0.105598\n",
      "  400 |   0.008188 |     1.0250 |     0.9893 |  -0.097477\n",
      "  450 |   0.004138 |     1.0246 |     1.0022 |  -0.092026\n",
      "  500 |   0.002439 |     1.0239 |     1.0104 |  -0.088173\n",
      "  550 |   0.001710 |     1.0230 |     1.0156 |  -0.085299\n",
      "  600 |   0.001384 |     1.0223 |     1.0188 |  -0.083036\n",
      "  650 |   0.001227 |     1.0217 |     1.0207 |  -0.081161\n",
      "  700 |   0.001142 |     1.0212 |     1.0218 |  -0.079538\n",
      "  750 |   0.001088 |     1.0207 |     1.0224 |  -0.078080\n",
      "  800 |   0.001046 |     1.0203 |     1.0227 |  -0.076735\n",
      "  850 |   0.001011 |     1.0199 |     1.0227 |  -0.075468\n",
      "  900 |   0.000980 |     1.0196 |     1.0226 |  -0.074258\n",
      "  950 |   0.000949 |     1.0192 |     1.0225 |  -0.073089\n",
      " 1000 |   0.000921 |     1.0189 |     1.0222 |  -0.071954\n"
     ]
    }
   ],
   "source": [
    "x_data = [\n",
    "    [1., 0., 3., 0., 5.],\n",
    "    [0., 2., 0., 4., 0.]\n",
    "]\n",
    "y_data  = [1, 2, 3, 4, 5]\n",
    "\n",
    "W = tf.Variable(tf.random_uniform([1, 2], -1.0, 1.0))\n",
    "b = tf.Variable(tf.random_uniform([1], -1.0, 1.0))\n",
    "\n",
    "learning_rate = tf.Variable(0.001)\n",
    "\n",
    "for i in range(1000+1):\n",
    "    with tf.GradientTape() as tape:\n",
    "        hypothesis = tf.matmul(W, x_data) + b # (1, 2) * (2, 5) = (1, 5)\n",
    "        cost = tf.reduce_mean(tf.square(hypothesis - y_data))\n",
    "\n",
    "        W_grad, b_grad = tape.gradient(cost, [W, b])\n",
    "        W.assign_sub(learning_rate * W_grad)\n",
    "        b.assign_sub(learning_rate * b_grad)\n",
    "    \n",
    "    if i % 50 == 0:\n",
    "        print(\"{:5} | {:10.6f} | {:10.4f} | {:10.4f} | {:10.6f}\".format(\n",
    "            i, cost.numpy(), W.numpy()[0][0], W.numpy()[0][1], b.numpy()[0]))"
   ]
  },
  {
   "cell_type": "markdown",
   "metadata": {
    "colab_type": "text",
    "id": "GUs7qbTR11xs",
    "slideshow": {
     "slide_type": "slide"
    }
   },
   "source": [
    "# Hypothesis without b"
   ]
  },
  {
   "cell_type": "code",
   "execution_count": 4,
   "metadata": {
    "colab": {
     "base_uri": "https://localhost:8080/",
     "height": 386
    },
    "colab_type": "code",
    "executionInfo": {
     "elapsed": 3701,
     "status": "ok",
     "timestamp": 1549859058377,
     "user": {
      "displayName": "Sean-June Lee",
      "photoUrl": "https://lh3.googleusercontent.com/-j96Pvw9LbEw/AAAAAAAAAAI/AAAAAAACQxw/aY8i4PoItwc/s64/photo.jpg",
      "userId": "12576390002043678893"
     },
     "user_tz": -540
    },
    "id": "114nIzJq5EuC",
    "outputId": "7b4a0292-0128-4a94-dfac-725f1311ecae"
   },
   "outputs": [
    {
     "name": "stdout",
     "output_type": "stream",
     "text": [
      "    0 |  15.840134 |     0.9544 |    -0.7136 |     0.5361\n",
      "   50 |   3.716712 |     1.1373 |     0.0144 |     0.5841\n",
      "  100 |   1.046846 |     1.2111 |     0.3590 |     0.6044\n",
      "  150 |   0.452741 |     1.2345 |     0.5237 |     0.6136\n",
      "  200 |   0.315059 |     1.2348 |     0.6039 |     0.6188\n",
      "  250 |   0.278092 |     1.2246 |     0.6443 |     0.6228\n",
      "  300 |   0.263582 |     1.2098 |     0.6660 |     0.6268\n",
      "  350 |   0.254260 |     1.1931 |     0.6788 |     0.6311\n",
      "  400 |   0.246290 |     1.1756 |     0.6873 |     0.6356\n",
      "  450 |   0.238807 |     1.1581 |     0.6938 |     0.6404\n",
      "  500 |   0.231608 |     1.1406 |     0.6993 |     0.6453\n",
      "  550 |   0.224640 |     1.1233 |     0.7043 |     0.6504\n",
      "  600 |   0.217887 |     1.1063 |     0.7090 |     0.6554\n",
      "  650 |   0.211338 |     1.0895 |     0.7135 |     0.6605\n",
      "  700 |   0.204985 |     1.0730 |     0.7179 |     0.6655\n",
      "  750 |   0.198824 |     1.0568 |     0.7222 |     0.6705\n",
      "  800 |   0.192849 |     1.0408 |     0.7264 |     0.6755\n",
      "  850 |   0.187053 |     1.0250 |     0.7305 |     0.6804\n",
      "  900 |   0.181431 |     1.0095 |     0.7346 |     0.6852\n",
      "  950 |   0.175978 |     0.9942 |     0.7387 |     0.6899\n",
      " 1000 |   0.170689 |     0.9791 |     0.7426 |     0.6946\n"
     ]
    }
   ],
   "source": [
    "# 앞의 코드에서 bias(b)를 행렬에 추가\n",
    "x_data = [\n",
    "    [1., 1., 1., 1., 1.], # bias(b)\n",
    "    [1., 0., 3., 0., 5.], \n",
    "    [0., 2., 0., 4., 0.]\n",
    "]\n",
    "y_data  = [1, 2, 3, 4, 5]\n",
    "\n",
    "W = tf.Variable(tf.random_uniform([1, 3], -1.0, 1.0)) # [1, 3]으로 변경하고, b 삭제\n",
    "\n",
    "learning_rate = 0.001\n",
    "optimizer = tf.train.GradientDescentOptimizer(learning_rate)\n",
    "\n",
    "for i in range(1000+1):\n",
    "    with tf.GradientTape() as tape:\n",
    "        hypothesis = tf.matmul(W, x_data) # b가 없다\n",
    "        cost = tf.reduce_mean(tf.square(hypothesis - y_data))\n",
    "\n",
    "    grads = tape.gradient(cost, [W])\n",
    "    optimizer.apply_gradients(grads_and_vars=zip(grads,[W]))\n",
    "    if i % 50 == 0:\n",
    "        print(\"{:5} | {:10.6f} | {:10.4f} | {:10.4f} | {:10.4f}\".format(\n",
    "            i, cost.numpy(), W.numpy()[0][0], W.numpy()[0][1], W.numpy()[0][2]))"
   ]
  },
  {
   "cell_type": "markdown",
   "metadata": {
    "colab_type": "text",
    "id": "ivo2V3xK11xx"
   },
   "source": [
    "# Custom Gradient\n",
    "* tf.train.GradientDescentOptimizer(): optimizer\n",
    "* optimizer.apply_gradients(): update"
   ]
  },
  {
   "cell_type": "code",
   "execution_count": 6,
   "metadata": {
    "colab": {
     "base_uri": "https://localhost:8080/",
     "height": 404
    },
    "colab_type": "code",
    "executionInfo": {
     "elapsed": 6779,
     "status": "ok",
     "timestamp": 1549859061465,
     "user": {
      "displayName": "Sean-June Lee",
      "photoUrl": "https://lh3.googleusercontent.com/-j96Pvw9LbEw/AAAAAAAAAAI/AAAAAAACQxw/aY8i4PoItwc/s64/photo.jpg",
      "userId": "12576390002043678893"
     },
     "user_tz": -540
    },
    "id": "QkPqZbkDiqe7",
    "outputId": "89754887-b544-4908-9e2d-2d9ab0dabc40"
   },
   "outputs": [
    {
     "name": "stdout",
     "output_type": "stream",
     "text": [
      "epoch | cost\n",
      "    0 |  21.726822\n",
      "   50 |   0.258689\n",
      "  100 |   0.176868\n",
      "  150 |   0.120926\n",
      "  200 |   0.082678\n",
      "  250 |   0.056528\n",
      "  300 |   0.038649\n",
      "  350 |   0.026424\n",
      "  400 |   0.018067\n",
      "  450 |   0.012352\n",
      "  500 |   0.008445\n",
      "  550 |   0.005774\n",
      "  600 |   0.003948\n",
      "  650 |   0.002699\n",
      "  700 |   0.001845\n",
      "  750 |   0.001262\n",
      "  800 |   0.000863\n",
      "  850 |   0.000590\n",
      "  900 |   0.000403\n",
      "  950 |   0.000276\n",
      " 1000 |   0.000189\n"
     ]
    }
   ],
   "source": [
    "# Multi-variable linear regression (1)\n",
    "\n",
    "X = tf.constant([[1., 2.], \n",
    "                 [3., 4.]])\n",
    "y = tf.constant([[1.5], [3.5]])\n",
    "\n",
    "W = tf.Variable(tf.random_normal([2, 1]))\n",
    "b = tf.Variable(tf.random_normal([1]))\n",
    "\n",
    "# Create an optimizer\n",
    "optimizer = tf.train.GradientDescentOptimizer(learning_rate=0.01)\n",
    "\n",
    "n_epoch = 1000+1\n",
    "print(\"epoch | cost\")\n",
    "for i in range(n_epoch):\n",
    "    # Use tf.GradientTape() to record the gradient of the cost function\n",
    "    with tf.GradientTape() as tape:\n",
    "        y_pred = tf.matmul(X, W) + b\n",
    "        cost = tf.reduce_mean(tf.square(y_pred - y))\n",
    "\n",
    "    # calculates the gradients of the loss\n",
    "    grads = tape.gradient(cost, [W, b])\n",
    "    \n",
    "    # updates parameters (W and b)\n",
    "    optimizer.apply_gradients(grads_and_vars=zip(grads, [W, b]))\n",
    "    if i % 50 == 0:\n",
    "        print(\"{:5} | {:10.6f}\".format(i, cost.numpy()))\n"
   ]
  },
  {
   "cell_type": "markdown",
   "metadata": {
    "colab_type": "text",
    "id": "kGyEI57HLRWl"
   },
   "source": [
    "# Predicting exam score\n",
    "regression using three inputs (x1, x2, x3)\n",
    "\n",
    "x1 (quiz 1) | x2 (quiz 2) | x3 (mid 1) | Y (final)\n",
    "---- | ---- | ----| ----\n",
    "73 | 80 | 75 | 152\n",
    "93 | 88 | 93 | 185\n",
    "89 | 91 | 90 | 180\n",
    "96 | 98 | 100 | 196\n",
    "73 | 66 | 70 | 142"
   ]
  },
  {
   "cell_type": "code",
   "execution_count": 7,
   "metadata": {
    "colab": {},
    "colab_type": "code",
    "id": "Ny-s4htZ4Lzo"
   },
   "outputs": [],
   "source": [
    "tf.set_random_seed(0)  # for reproducibility"
   ]
  },
  {
   "cell_type": "markdown",
   "metadata": {
    "colab_type": "text",
    "id": "F1bSir9448BC"
   },
   "source": [
    "\n",
    "```python\n",
    "x1 = [ 73.,  93.,  89.,  96.,  73.]\n",
    "x2 = [ 80.,  88.,  91.,  98.,  66.]\n",
    "x3 = [ 75.,  93.,  90., 100.,  70.]\n",
    "Y  = [152., 185., 180., 196., 142.]\n",
    "\n",
    "# weights\n",
    "w1 = tf.Variable(10.)\n",
    "w2 = tf.Variable(10.)\n",
    "w3 = tf.Variable(10.)\n",
    "b  = tf.Variable(10.)\n",
    "\n",
    "hypothesis = w1 * x1 +  w2 * x2 + w3 * x3 + b        \n",
    "```"
   ]
  },
  {
   "cell_type": "code",
   "execution_count": 8,
   "metadata": {
    "colab": {
     "base_uri": "https://localhost:8080/",
     "height": 386
    },
    "colab_type": "code",
    "executionInfo": {
     "elapsed": 2003,
     "status": "ok",
     "timestamp": 1549861013021,
     "user": {
      "displayName": "Sean-June Lee",
      "photoUrl": "https://lh3.googleusercontent.com/-j96Pvw9LbEw/AAAAAAAAAAI/AAAAAAACQxw/aY8i4PoItwc/s64/photo.jpg",
      "userId": "12576390002043678893"
     },
     "user_tz": -540
    },
    "id": "ICTAblBh-3FO",
    "outputId": "f364e89a-1df9-4635-a1ae-7a4b10a56659"
   },
   "outputs": [
    {
     "name": "stdout",
     "output_type": "stream",
     "text": [
      "    0 | 5793889.5000\n",
      "   50 |   64291.1484\n",
      "  100 |     715.2902\n",
      "  150 |       9.8462\n",
      "  200 |       2.0152\n",
      "  250 |       1.9252\n",
      "  300 |       1.9210\n",
      "  350 |       1.9177\n",
      "  400 |       1.9145\n",
      "  450 |       1.9114\n",
      "  500 |       1.9081\n",
      "  550 |       1.9050\n",
      "  600 |       1.9018\n",
      "  650 |       1.8986\n",
      "  700 |       1.8955\n",
      "  750 |       1.8923\n",
      "  800 |       1.8892\n",
      "  850 |       1.8861\n",
      "  900 |       1.8829\n",
      "  950 |       1.8798\n",
      " 1000 |       1.8767\n"
     ]
    }
   ],
   "source": [
    "# data and label\n",
    "x1 = [ 73.,  93.,  89.,  96.,  73.]\n",
    "x2 = [ 80.,  88.,  91.,  98.,  66.]\n",
    "x3 = [ 75.,  93.,  90., 100.,  70.]\n",
    "Y  = [152., 185., 180., 196., 142.]\n",
    "\n",
    "# weights\n",
    "w1 = tf.Variable(10.)\n",
    "w2 = tf.Variable(10.)\n",
    "w3 = tf.Variable(10.)\n",
    "b  = tf.Variable(10.)\n",
    "\n",
    "learning_rate = 0.000001\n",
    "\n",
    "for i in range(1000+1):\n",
    "    # tf.GradientTape() to record the gradient of the cost function\n",
    "    with tf.GradientTape() as tape:\n",
    "        hypothesis = w1 * x1 +  w2 * x2 + w3 * x3 + b\n",
    "        cost = tf.reduce_mean(tf.square(hypothesis - Y))\n",
    "    # calculates the gradients of the cost\n",
    "    w1_grad, w2_grad, w3_grad, b_grad = tape.gradient(cost, [w1, w2, w3, b])\n",
    "    \n",
    "    # update w1,w2,w3 and b\n",
    "    w1.assign_sub(learning_rate * w1_grad)\n",
    "    w2.assign_sub(learning_rate * w2_grad)\n",
    "    w3.assign_sub(learning_rate * w3_grad)\n",
    "    b.assign_sub(learning_rate * b_grad)\n",
    "\n",
    "    if i % 50 == 0:\n",
    "      print(\"{:5} | {:12.4f}\".format(i, cost.numpy()))"
   ]
  },
  {
   "cell_type": "markdown",
   "metadata": {
    "colab_type": "text",
    "id": "Ptg1sl3w8uFt"
   },
   "source": [
    "## Multi-variable linear regression (1)\n",
    "*  random  초기화: tf.random_normal()\n"
   ]
  },
  {
   "cell_type": "code",
   "execution_count": 3,
   "metadata": {
    "colab": {
     "base_uri": "https://localhost:8080/",
     "height": 386
    },
    "colab_type": "code",
    "executionInfo": {
     "elapsed": 1992,
     "status": "ok",
     "timestamp": 1549861572665,
     "user": {
      "displayName": "Sean-June Lee",
      "photoUrl": "https://lh3.googleusercontent.com/-j96Pvw9LbEw/AAAAAAAAAAI/AAAAAAACQxw/aY8i4PoItwc/s64/photo.jpg",
      "userId": "12576390002043678893"
     },
     "user_tz": -540
    },
    "id": "LhczGchq_zzQ",
    "outputId": "37949eab-e23e-4ef3-997a-e0e02f63daa3"
   },
   "outputs": [
    {
     "ename": "ModuleNotFoundError",
     "evalue": "No module named 'tensorflow'",
     "output_type": "error",
     "traceback": [
      "\u001b[1;31m---------------------------------------------------------------------------\u001b[0m",
      "\u001b[1;31mModuleNotFoundError\u001b[0m                       Traceback (most recent call last)",
      "\u001b[1;32m<ipython-input-3-d72703b95eb3>\u001b[0m in \u001b[0;36m<module>\u001b[1;34m\u001b[0m\n\u001b[1;32m----> 1\u001b[1;33m \u001b[1;32mimport\u001b[0m \u001b[0mtensorflow\u001b[0m \u001b[1;32mas\u001b[0m \u001b[0mtf\u001b[0m\u001b[1;33m\u001b[0m\u001b[1;33m\u001b[0m\u001b[0m\n\u001b[0m\u001b[0;32m      2\u001b[0m \u001b[1;32mimport\u001b[0m \u001b[0mnumpy\u001b[0m \u001b[1;32mas\u001b[0m \u001b[0mnp\u001b[0m\u001b[1;33m\u001b[0m\u001b[1;33m\u001b[0m\u001b[0m\n\u001b[0;32m      3\u001b[0m \u001b[1;31m# data and label\u001b[0m\u001b[1;33m\u001b[0m\u001b[1;33m\u001b[0m\u001b[1;33m\u001b[0m\u001b[0m\n\u001b[0;32m      4\u001b[0m \u001b[0mx1\u001b[0m \u001b[1;33m=\u001b[0m \u001b[1;33m[\u001b[0m \u001b[1;36m73.\u001b[0m\u001b[1;33m,\u001b[0m  \u001b[1;36m93.\u001b[0m\u001b[1;33m,\u001b[0m  \u001b[1;36m89.\u001b[0m\u001b[1;33m,\u001b[0m  \u001b[1;36m96.\u001b[0m\u001b[1;33m,\u001b[0m  \u001b[1;36m73.\u001b[0m\u001b[1;33m]\u001b[0m\u001b[1;33m\u001b[0m\u001b[1;33m\u001b[0m\u001b[0m\n\u001b[0;32m      5\u001b[0m \u001b[0mx2\u001b[0m \u001b[1;33m=\u001b[0m \u001b[1;33m[\u001b[0m \u001b[1;36m80.\u001b[0m\u001b[1;33m,\u001b[0m  \u001b[1;36m88.\u001b[0m\u001b[1;33m,\u001b[0m  \u001b[1;36m91.\u001b[0m\u001b[1;33m,\u001b[0m  \u001b[1;36m98.\u001b[0m\u001b[1;33m,\u001b[0m  \u001b[1;36m66.\u001b[0m\u001b[1;33m]\u001b[0m\u001b[1;33m\u001b[0m\u001b[1;33m\u001b[0m\u001b[0m\n",
      "\u001b[1;31mModuleNotFoundError\u001b[0m: No module named 'tensorflow'"
     ]
    }
   ],
   "source": [
    "import tensorflow as tf\n",
    "import numpy as np\n",
    "# data and label\n",
    "x1 = [ 73.,  93.,  89.,  96.,  73.]\n",
    "x2 = [ 80.,  88.,  91.,  98.,  66.]\n",
    "x3 = [ 75.,  93.,  90., 100.,  70.]\n",
    "Y  = [152., 185., 180., 196., 142.]\n",
    "\n",
    "# random weights\n",
    "w1 = tf.Variable(tf.random_normal([1]))\n",
    "w2 = tf.Variable(tf.random_normal([1]))\n",
    "w3 = tf.Variable(tf.random_normal([1]))\n",
    "b  = tf.Variable(tf.random_normal([1]))\n",
    "\n",
    "learning_rate = 0.000001\n",
    "\n",
    "for i in range(1000+1):\n",
    "    # tf.GradientTape() to record the gradient of the cost function\n",
    "    with tf.GradientTape() as tape:\n",
    "        hypothesis = w1 * x1 +  w2 * x2 + w3 * x3 + b\n",
    "        cost = tf.reduce_mean(tf.square(hypothesis - Y))\n",
    "    # calculates the gradients of the cost\n",
    "    w1_grad, w2_grad, w3_grad, b_grad = tape.gradient(cost, [w1, w2, w3, b])\n",
    "    \n",
    "    # update w1,w2,w3 and b\n",
    "    w1.assign_sub(learning_rate * w1_grad)\n",
    "    w2.assign_sub(learning_rate * w2_grad)\n",
    "    w3.assign_sub(learning_rate * w3_grad)\n",
    "    b.assign_sub(learning_rate * b_grad)\n",
    "\n",
    "    if i % 50 == 0:\n",
    "      print(\"{:5} | {:12.4f}\".format(i, cost.numpy()))\n"
   ]
  },
  {
   "cell_type": "markdown",
   "metadata": {
    "colab_type": "text",
    "id": "7w0kEX9C82D8"
   },
   "source": [
    "## Multi-variable linear regression (2)\n",
    "\n",
    "* Matrix 사용"
   ]
  },
  {
   "cell_type": "code",
   "execution_count": 1,
   "metadata": {
    "colab": {
     "base_uri": "https://localhost:8080/",
     "height": 404
    },
    "colab_type": "code",
    "executionInfo": {
     "elapsed": 2082,
     "status": "ok",
     "timestamp": 1549861764291,
     "user": {
      "displayName": "Sean-June Lee",
      "photoUrl": "https://lh3.googleusercontent.com/-j96Pvw9LbEw/AAAAAAAAAAI/AAAAAAACQxw/aY8i4PoItwc/s64/photo.jpg",
      "userId": "12576390002043678893"
     },
     "user_tz": -540
    },
    "id": "mmNogkEuQe5K",
    "outputId": "025477a5-868f-413d-fb4c-678f9510a6be"
   },
   "outputs": [
    {
     "ename": "NameError",
     "evalue": "name 'np' is not defined",
     "output_type": "error",
     "traceback": [
      "\u001b[1;31m---------------------------------------------------------------------------\u001b[0m",
      "\u001b[1;31mNameError\u001b[0m                                 Traceback (most recent call last)",
      "\u001b[1;32m<ipython-input-1-6fea3301f046>\u001b[0m in \u001b[0;36m<module>\u001b[1;34m\u001b[0m\n\u001b[1;32m----> 1\u001b[1;33m data = np.array([\n\u001b[0m\u001b[0;32m      2\u001b[0m     \u001b[1;31m# X1,   X2,    X3,   y\u001b[0m\u001b[1;33m\u001b[0m\u001b[1;33m\u001b[0m\u001b[1;33m\u001b[0m\u001b[0m\n\u001b[0;32m      3\u001b[0m     \u001b[1;33m[\u001b[0m \u001b[1;36m73.\u001b[0m\u001b[1;33m,\u001b[0m  \u001b[1;36m80.\u001b[0m\u001b[1;33m,\u001b[0m  \u001b[1;36m75.\u001b[0m\u001b[1;33m,\u001b[0m \u001b[1;36m152.\u001b[0m \u001b[1;33m]\u001b[0m\u001b[1;33m,\u001b[0m\u001b[1;33m\u001b[0m\u001b[1;33m\u001b[0m\u001b[0m\n\u001b[0;32m      4\u001b[0m     \u001b[1;33m[\u001b[0m \u001b[1;36m93.\u001b[0m\u001b[1;33m,\u001b[0m  \u001b[1;36m88.\u001b[0m\u001b[1;33m,\u001b[0m  \u001b[1;36m93.\u001b[0m\u001b[1;33m,\u001b[0m \u001b[1;36m185.\u001b[0m \u001b[1;33m]\u001b[0m\u001b[1;33m,\u001b[0m\u001b[1;33m\u001b[0m\u001b[1;33m\u001b[0m\u001b[0m\n\u001b[0;32m      5\u001b[0m     \u001b[1;33m[\u001b[0m \u001b[1;36m89.\u001b[0m\u001b[1;33m,\u001b[0m  \u001b[1;36m91.\u001b[0m\u001b[1;33m,\u001b[0m  \u001b[1;36m90.\u001b[0m\u001b[1;33m,\u001b[0m \u001b[1;36m180.\u001b[0m \u001b[1;33m]\u001b[0m\u001b[1;33m,\u001b[0m\u001b[1;33m\u001b[0m\u001b[1;33m\u001b[0m\u001b[0m\n",
      "\u001b[1;31mNameError\u001b[0m: name 'np' is not defined"
     ]
    }
   ],
   "source": [
    "data = np.array([\n",
    "    # X1,   X2,    X3,   y\n",
    "    [ 73.,  80.,  75., 152. ],\n",
    "    [ 93.,  88.,  93., 185. ],\n",
    "    [ 89.,  91.,  90., 180. ],\n",
    "    [ 96.,  98., 100., 196. ],\n",
    "    [ 73.,  66.,  70., 142. ]\n",
    "], dtype=np.float32)\n",
    "\n",
    "# slice data\n",
    "X = data[:, :-1]\n",
    "y = data[:, [-1]]\n",
    "\n",
    "W = tf.Variable(tf.random_normal([3, 1]))\n",
    "b = tf.Variable(tf.random_normal([1]))\n",
    "\n",
    "learning_rate = 0.000001\n",
    "\n",
    "# hypothesis, prediction function\n",
    "def predict(X):\n",
    "    return tf.matmul(X, W) + b\n",
    "\n",
    "print(\"epoch | cost\")\n",
    "\n",
    "n_epochs = 2000\n",
    "for i in range(n_epochs+1):\n",
    "    # tf.GradientTape() to record the gradient of the cost function\n",
    "    with tf.GradientTape() as tape:\n",
    "        cost = tf.reduce_mean((tf.square(predict(X) - y)))\n",
    "\n",
    "    # calculates the gradients of the loss\n",
    "    W_grad, b_grad = tape.gradient(cost, [W, b])\n",
    "\n",
    "    # updates parameters (W and b)\n",
    "    W.assign_sub(learning_rate * W_grad)\n",
    "    b.assign_sub(learning_rate * b_grad)\n",
    "    \n",
    "    if i % 100 == 0:\n",
    "        print(\"{:5} | {:10.4f}\".format(i, cost.numpy()))"
   ]
  },
  {
   "cell_type": "code",
   "execution_count": 11,
   "metadata": {
    "colab": {},
    "colab_type": "code",
    "id": "mt9zvM2OaljB"
   },
   "outputs": [
    {
     "data": {
      "text/plain": [
       "array([[ 1.368576 ],\n",
       "       [ 2.1047728],\n",
       "       [-1.4229954]], dtype=float32)"
      ]
     },
     "execution_count": 11,
     "metadata": {},
     "output_type": "execute_result"
    }
   ],
   "source": [
    "W.numpy()"
   ]
  },
  {
   "cell_type": "code",
   "execution_count": 12,
   "metadata": {
    "colab": {},
    "colab_type": "code",
    "id": "eCTzJDjH2k4z"
   },
   "outputs": [
    {
     "data": {
      "text/plain": [
       "array([-1.1783521], dtype=float32)"
      ]
     },
     "execution_count": 12,
     "metadata": {},
     "output_type": "execute_result"
    }
   ],
   "source": [
    "b.numpy()"
   ]
  },
  {
   "cell_type": "code",
   "execution_count": 13,
   "metadata": {
    "colab": {},
    "colab_type": "code",
    "id": "Cs-KBzAHCf2u"
   },
   "outputs": [
    {
     "data": {
      "text/plain": [
       "<tf.Tensor: id=383121, shape=(5, 1), dtype=float32, numpy=\n",
       "array([[160.38487],\n",
       "       [178.98064],\n",
       "       [184.08965],\n",
       "       [194.17314],\n",
       "       [138.03304]], dtype=float32)>"
      ]
     },
     "execution_count": 13,
     "metadata": {},
     "output_type": "execute_result"
    }
   ],
   "source": [
    "tf.matmul(X, W) + b"
   ]
  },
  {
   "cell_type": "markdown",
   "metadata": {
    "colab_type": "text",
    "id": "9FgoGhG8GxEW"
   },
   "source": [
    "## predict"
   ]
  },
  {
   "cell_type": "code",
   "execution_count": 14,
   "metadata": {
    "colab": {},
    "colab_type": "code",
    "id": "0ZcVkvquG0g5"
   },
   "outputs": [
    {
     "data": {
      "text/plain": [
       "[152.0, 185.0, 180.0, 196.0, 142.0]"
      ]
     },
     "execution_count": 14,
     "metadata": {},
     "output_type": "execute_result"
    }
   ],
   "source": [
    "Y # labels, 실제값"
   ]
  },
  {
   "cell_type": "code",
   "execution_count": 15,
   "metadata": {
    "colab": {},
    "colab_type": "code",
    "id": "f_YW4xsrGZAE"
   },
   "outputs": [
    {
     "data": {
      "text/plain": [
       "array([[160.38487],\n",
       "       [178.98064],\n",
       "       [184.08965],\n",
       "       [194.17314],\n",
       "       [138.03304]], dtype=float32)"
      ]
     },
     "execution_count": 15,
     "metadata": {},
     "output_type": "execute_result"
    }
   ],
   "source": [
    "predict(X).numpy() # prediction, 예측값"
   ]
  },
  {
   "cell_type": "code",
   "execution_count": 16,
   "metadata": {
    "colab": {},
    "colab_type": "code",
    "id": "QrXNF_NSHZGo"
   },
   "outputs": [
    {
     "data": {
      "text/plain": [
       "array([[189.66275],\n",
       "       [186.46652]], dtype=float32)"
      ]
     },
     "execution_count": 16,
     "metadata": {},
     "output_type": "execute_result"
    }
   ],
   "source": [
    "# 새로운 데이터에 대한 예측\n",
    "\n",
    "predict([[ 89.,  95.,  92.],[ 84.,  92.,  85.]]).numpy() "
   ]
  }
 ],
 "metadata": {
  "colab": {
   "collapsed_sections": [],
   "name": "lab-04-1-Multi-variable-Linear-Regression-eager.ipynb",
   "provenance": [],
   "version": "0.3.2"
  },
  "kernelspec": {
   "display_name": "Python 3",
   "language": "python",
   "name": "python3"
  },
  "language_info": {
   "codemirror_mode": {
    "name": "ipython",
    "version": 3
   },
   "file_extension": ".py",
   "mimetype": "text/x-python",
   "name": "python",
   "nbconvert_exporter": "python",
   "pygments_lexer": "ipython3",
   "version": "3.8.8"
  }
 },
 "nbformat": 4,
 "nbformat_minor": 1
}
